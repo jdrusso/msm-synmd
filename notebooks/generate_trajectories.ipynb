{
 "cells": [
  {
   "cell_type": "code",
   "execution_count": 1,
   "outputs": [],
   "source": [
    "import sys\n",
    "sys.path.append('/Users/russojd/Research/synthMD/synthetic_md')"
   ],
   "metadata": {
    "collapsed": false,
    "pycharm": {
     "name": "#%%\n"
    }
   }
  },
  {
   "cell_type": "code",
   "execution_count": 2,
   "outputs": [],
   "source": [
    "import synthetic_md.models as smd_models\n",
    "import tqdm.auto as tqdm\n",
    "import MDAnalysis as mda\n",
    "import numpy as np"
   ],
   "metadata": {
    "collapsed": false,
    "pycharm": {
     "name": "#%%\n"
    }
   }
  },
  {
   "cell_type": "markdown",
   "metadata": {
    "pycharm": {
     "name": "#%% md\n"
    }
   },
   "source": [
    "## Load saved transition matrix / structures"
   ]
  },
  {
   "cell_type": "markdown",
   "source": [
    "To run synthetic MD with a generating MSM, we need:\n",
    "- A continuous trajectory\n",
    "- A corresponding discrete trajectory\n",
    "- A transition matrix, built from those trajectories.\n",
    "\n",
    "The transition matrix is used to generate discrete synthetic MD trajectories.\n",
    "The discrete and continuous trajectories are used to map discrete states to continuous structures (which allows us to convert a discrete generated trajectory into a full-coordinate MD trajectory).\n",
    "\n",
    "**Replace the contents of these cells with however you store those.**"
   ],
   "metadata": {
    "collapsed": false,
    "pycharm": {
     "name": "#%% md\n"
    }
   }
  },
  {
   "cell_type": "code",
   "execution_count": 4,
   "metadata": {
    "pycharm": {
     "name": "#%%\n"
    }
   },
   "outputs": [],
   "source": [
    "continuous_trajectory = mda.Universe(\n",
    "    '/Users/russojd/Research/desres_trajectories/DESRES-Trajectory_2JOF-0-protein 2/2JOF-0-protein/2JOF.pdb',\n",
    "    '/Users/russojd/Research/protein-like_msm/aligned_2JOF.dcd')\n",
    "\n",
    "stored_msm = np.load('/Users/russojd/Research/protein-like_msm/strict_strat_tic_cluster_lag-1ns_transition_matrix_ernesto_symm.npz', allow_pickle=True)\n",
    "discrete_trajectory = stored_msm['discrete_trajectory']\n",
    "fine_transition_matrix = stored_msm['transition_matrix']\n",
    "\n",
    "n_states = len(fine_transition_matrix)"
   ]
  },
  {
   "cell_type": "markdown",
   "source": [
    "This just parameterizes the output of the SynMD."
   ],
   "metadata": {
    "collapsed": false,
    "pycharm": {
     "name": "#%% md\n"
    }
   }
  },
  {
   "cell_type": "code",
   "execution_count": 42,
   "outputs": [],
   "source": [
    "# Output data will be put in this directory. This seed is used to seed the synMD RNG, so re-running this notebook with the same seed will produce the same trajectories.\n",
    "\n",
    "seed = 11\n",
    "gen_path = f'/Users/russojd/Research/synthMD/experiments/generated/2j0f-{seed}-1ns'\n",
    "\n",
    "# The number of SynMD trajectories to produce, and their length.\n",
    "n_trajectories = 800\n",
    "trajectory_length = 500"
   ],
   "metadata": {
    "collapsed": false,
    "pycharm": {
     "name": "#%%\n"
    }
   }
  },
  {
   "cell_type": "markdown",
   "metadata": {
    "pycharm": {
     "name": "#%% md\n"
    }
   },
   "source": [
    "## Monkey-patch generative model class\n",
    "\n",
    "Before building the generative model, we need to define how it'll do some things."
   ]
  },
  {
   "cell_type": "markdown",
   "source": [
    "Define how the generative model will choose structures, given a state index.\n",
    "\n",
    "This function defines how to backmap a discrete state index to a representative full-coordinate structure, to be used in backmapping the discrete trajectories to a full-coordinate trajectory.\n",
    "\n",
    "Here, I show **two example ways** you could do this."
   ],
   "metadata": {
    "collapsed": false
   }
  },
  {
   "cell_type": "markdown",
   "source": [
    "The first way: Here, we randomly choose structures from any points in the continuous trajectory that match this cluster.\n",
    "\n",
    "You could have a bunch of different structures mapped to a single cluster, and this will randomly pick from them."
   ],
   "metadata": {
    "collapsed": false
   }
  },
  {
   "cell_type": "code",
   "execution_count": 6,
   "metadata": {
    "pycharm": {
     "name": "#%%\n"
    }
   },
   "outputs": [],
   "source": [
    "def assign_structure(self, state_index):\n",
    "    \"\"\"\n",
    "    Given a state index, return a representative structure.\n",
    "\n",
    "    :param self:\n",
    "    :param state_index:\n",
    "    :return:\n",
    "    \"\"\"\n",
    "\n",
    "    valid_structures_idxs = np.argwhere(discrete_trajectory == state_index).flatten().astype(int)\n",
    "\n",
    "    assert len(valid_structures_idxs) > 0, f\"No valid structures found for state {state_index}\"\n",
    "\n",
    "    structure_idx = self.rng.choice(valid_structures_idxs)\n",
    "    structure = continuous_trajectory.trajectory[structure_idx].positions\n",
    "\n",
    "    return structure\n",
    "\n",
    "smd_models.GenerativeMarkovModel.assign_structure = assign_structure"
   ]
  },
  {
   "cell_type": "markdown",
   "source": [
    "A second (much faster) way: Just map single structures to each discrete state."
   ],
   "metadata": {
    "collapsed": false,
    "pycharm": {
     "name": "#%% md\n"
    }
   }
  },
  {
   "cell_type": "code",
   "execution_count": 5,
   "outputs": [],
   "source": [
    "# You can uncomment this, and the line in the cell below to associate an RMSD with each discrete state.\n",
    "#   Just a convenience thing for later analysis.\n",
    "\n",
    "# rmsd_trajectory = np.load(f'/Users/russojd/Research/protein-like_msm/rmsd_2JOF.npz')['rmsd']"
   ],
   "metadata": {
    "collapsed": false,
    "pycharm": {
     "name": "#%%\n"
    }
   }
  },
  {
   "cell_type": "code",
   "execution_count": null,
   "outputs": [],
   "source": [
    "structure_map = {}\n",
    "rng = np.random.default_rng(seed=seed)\n",
    "\n",
    "for state_index in range(n_states):\n",
    "\n",
    "    valid_structures_idxs = np.argwhere(discrete_trajectory == state_index).flatten().astype(int)\n",
    "    assert len(valid_structures_idxs) > 0, f\"No valid structures found for state {state_index}\"\n",
    "    structure_idx = rng.choice(valid_structures_idxs)\n",
    "\n",
    "    structure_map[state_index] = [continuous_trajectory.trajectory[structure_idx].positions,\n",
    "                                  # rmsd_trajectory[structure_idx],\n",
    "                                  structure_idx]\n",
    "\n",
    "def assign_structure(self, state_index):\n",
    "    \"\"\"\n",
    "    Given a state index, return a representative structure.\n",
    "\n",
    "    :param self:\n",
    "    :param state_index:\n",
    "    :return:\n",
    "    \"\"\"\n",
    "\n",
    "    return structure_map[state_index][0]\n",
    "\n",
    "smd_models.GenerativeMarkovModel.assign_structure = assign_structure"
   ],
   "metadata": {
    "collapsed": false,
    "pycharm": {
     "name": "#%%\n"
    }
   }
  },
  {
   "cell_type": "markdown",
   "source": [
    "You can do whatever you like for the assignment/backmapping -- for example, say you want some variation in your final generated trajectory. You could do something like load the structure from the dictionary, then permute the coordinates in some way.\n",
    "\n",
    "Each time a discrete state is assigned to a structure, this function runs, so a single discrete state could map to a variety of slightly-permuted structures."
   ],
   "metadata": {
    "collapsed": false,
    "pycharm": {
     "name": "#%% md\n"
    }
   }
  },
  {
   "cell_type": "markdown",
   "source": [
    "Now, define how to write a full-coordinate trajectory to an MD file.\n",
    "\n",
    "(This could probably just be standardized into the `smd_models.GenerativeMarkovModel`)"
   ],
   "metadata": {
    "collapsed": false,
    "pycharm": {
     "name": "#%% md\n"
    }
   }
  },
  {
   "cell_type": "code",
   "execution_count": 8,
   "metadata": {
    "pycharm": {
     "name": "#%%\n"
    }
   },
   "outputs": [],
   "source": [
    "def write_trajectory(self, structure_file, out_file, coordinate_trajectories):\n",
    "    \"\"\"\n",
    "    Write a full-coordinate trajectory, represented as XYZ coordinates, to an MD file format.\n",
    "\n",
    "    :param structure_file: File defining the MD structure. Must be usable in an `MDAnalysis.Universe`\n",
    "    :param out_file: File to write atomistic trajectory to.\n",
    "    :param coordinate_trajectories: Full-coordinate trajectories.\n",
    "    :return:\n",
    "    \"\"\"\n",
    "\n",
    "    md_trajectories = []\n",
    "\n",
    "    for i, coordinate_trajectory in enumerate(tqdm.tqdm(coordinate_trajectories, desc=\"Writing trajectories \")):\n",
    "\n",
    "        _out_filename = out_file.split('.')[0] + f'_{i}.' + out_file.split('.')[1]\n",
    "\n",
    "        md_trajectory = mda.Universe(structure_file)\n",
    "        md_trajectory.load_new(coordinate_trajectory)\n",
    "\n",
    "        with mda.Writer(_out_filename, len(md_trajectory.atoms)) as W:\n",
    "\n",
    "            for frame in md_trajectory.trajectory:\n",
    "                W.write(md_trajectory)\n",
    "\n",
    "        md_trajectories.append(md_trajectory)\n",
    "\n",
    "    return md_trajectories\n",
    "\n",
    "smd_models.GenerativeMarkovModel.write_trajectory = write_trajectory"
   ]
  },
  {
   "cell_type": "markdown",
   "source": [
    "Finally, construct the model object."
   ],
   "metadata": {
    "collapsed": false,
    "pycharm": {
     "name": "#%% md\n"
    }
   }
  },
  {
   "cell_type": "code",
   "execution_count": 43,
   "metadata": {
    "pycharm": {
     "name": "#%%\n"
    }
   },
   "outputs": [],
   "source": [
    "model = smd_models.GenerativeMarkovModel(transition_matrix=fine_transition_matrix, seed=seed)"
   ]
  },
  {
   "cell_type": "markdown",
   "metadata": {},
   "source": [
    "## Construct trajectories\n",
    "Generate discrete trajectories, then backmap them to full-coordinate representations.\n",
    "\n",
    "First, choose some initial (discrete) states"
   ]
  },
  {
   "cell_type": "code",
   "execution_count": 10,
   "metadata": {
    "pycharm": {
     "name": "#%%\n"
    }
   },
   "outputs": [],
   "source": [
    "rng = np.random.default_rng(seed=seed)\n",
    "initial_states = rng.choice(range(n_states), size=n_trajectories, replace=True)\n",
    "\n",
    "initial_states = [discrete_trajectory[-1] for x in range(n_trajectories)]"
   ]
  },
  {
   "cell_type": "markdown",
   "source": [
    "Now, generate the discrete trajectories."
   ],
   "metadata": {
    "collapsed": false,
    "pycharm": {
     "name": "#%% md\n"
    }
   }
  },
  {
   "cell_type": "code",
   "execution_count": 23,
   "metadata": {
    "pycharm": {
     "name": "#%%\n"
    }
   },
   "outputs": [
    {
     "data": {
      "text/plain": "50"
     },
     "execution_count": 23,
     "metadata": {},
     "output_type": "execute_result"
    }
   ],
   "source": [
    "dtrajs = model.generate_discrete_trajectories(n_steps=trajectory_length,\n",
    "                                              initial_states=initial_states,\n",
    "                                              n_trajectories=n_trajectories)"
   ]
  },
  {
   "cell_type": "markdown",
   "metadata": {
    "pycharm": {
     "name": "#%% md\n"
    }
   },
   "source": [
    "(Optional) Explicitly remove any trajectories that sample both basins"
   ]
  },
  {
   "cell_type": "code",
   "execution_count": null,
   "outputs": [],
   "source": [
    "\n",
    "for i, traj in enumerate(dtrajs):\n",
    "\n",
    "        new_dtraj = traj\n",
    "        while np.isin(stored_msm['states_unfolded'], new_dtraj).any() & \\\n",
    "            np.isin(stored_msm['states_folded'],  new_dtraj).any():\n",
    "\n",
    "            print(f\"Traj {i} contains both folded and unfolded. Generating new...\")\n",
    "\n",
    "            new_dtraj = model.generate_discrete_trajectories(n_steps=trajectory_length,\n",
    "                                                  initial_states=[initial_states[i]],\n",
    "                                                  n_trajectories=1)\n",
    "\n",
    "        dtrajs[i] = new_dtraj"
   ],
   "metadata": {
    "collapsed": false,
    "pycharm": {
     "name": "#%%\n"
    }
   }
  },
  {
   "cell_type": "markdown",
   "source": [
    "Finally, backmap the discrete trajectories to full-coordinate trajectories."
   ],
   "metadata": {
    "collapsed": false
   }
  },
  {
   "cell_type": "code",
   "execution_count": null,
   "outputs": [],
   "source": [
    "continuous_trajectories = model.backmap(dtrajs)"
   ],
   "metadata": {
    "collapsed": false,
    "pycharm": {
     "name": "#%%\n"
    }
   }
  },
  {
   "cell_type": "markdown",
   "metadata": {},
   "source": [
    "## Write trajectories\n",
    "\n",
    "First, write the full-coordinate trajectories.\n",
    "This takes us from arrays of XYZ positions at each frame, to an actual MD file.\n",
    "\n",
    "This is a bonafide MD file -- you can load this up in VMD and visualize your synMD trajectory."
   ]
  },
  {
   "cell_type": "code",
   "execution_count": 47,
   "metadata": {
    "pycharm": {
     "name": "#%%\n"
    }
   },
   "outputs": [
    {
     "data": {
      "text/plain": "Writing trajectories :   0%|          | 0/800 [00:00<?, ?it/s]",
      "application/vnd.jupyter.widget-view+json": {
       "version_major": 2,
       "version_minor": 0,
       "model_id": "7012f78fce5d49b394ca83bfeb01f46b"
      }
     },
     "metadata": {},
     "output_type": "display_data"
    }
   ],
   "source": [
    "# Topology corresponding to the generated structures\n",
    "md_topology_file = '/Users/russojd/Research/desres_trajectories/DESRES-Trajectory_2JOF-0-protein 2/2JOF-0-protein/2JOF.pdb'\n",
    "\n",
    "md_trajs = model.write_trajectory(\n",
    "    structure_file=md_topology_file,\n",
    "    out_file=f'{gen_path}/coordinate_trajectories/generated_full-coords.xtc',\n",
    "    coordinate_trajectories=continuous_trajectories,\n",
    ")"
   ]
  },
  {
   "cell_type": "code",
   "execution_count": 48,
   "metadata": {
    "pycharm": {
     "name": "#%%\n"
    }
   },
   "outputs": [],
   "source": [
    "np.savez(f'{gen_path}/discrete_trajectories', dtrajs=dtrajs)"
   ]
  },
  {
   "cell_type": "code",
   "execution_count": 49,
   "metadata": {
    "pycharm": {
     "name": "#%%\n"
    }
   },
   "outputs": [],
   "source": [
    "np.savez(f'{gen_path}/structure_map', structure_map=structure_map)"
   ]
  }
 ],
 "metadata": {
  "kernelspec": {
   "display_name": "Python 3 (ipykernel)",
   "language": "python",
   "name": "python3"
  },
  "language_info": {
   "codemirror_mode": {
    "name": "ipython",
    "version": 3
   },
   "file_extension": ".py",
   "mimetype": "text/x-python",
   "name": "python",
   "nbconvert_exporter": "python",
   "pygments_lexer": "ipython3",
   "version": "3.9.10"
  }
 },
 "nbformat": 4,
 "nbformat_minor": 1
}